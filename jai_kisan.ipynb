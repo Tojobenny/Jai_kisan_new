{
 "cells": [
  {
   "cell_type": "code",
   "execution_count": 48,
   "metadata": {
    "colab": {},
    "colab_type": "code",
    "id": "eu8aDZG-nSy9"
   },
   "outputs": [],
   "source": [
    "import warnings\n",
    "import itertools\n",
    "import numpy as np\n",
    "import seaborn as sns\n",
    "import matplotlib.pyplot as plt\n",
    "warnings.filterwarnings(\"ignore\")\n",
    "plt.style.use('fivethirtyeight')\n",
    "import pandas as pd\n",
    "import statsmodels.api as sm\n",
    "import matplotlib\n",
    "import matplotlib.pyplot as plt\n",
    "from matplotlib import style\n",
    "style.use('ggplot')\n",
    "from sklearn.cluster import KMeans\n",
    "from sklearn import preprocessing\n",
    "from sklearn.model_selection import cross_validate\n",
    "from sklearn.tree import DecisionTreeClassifier\n",
    "from sklearn.metrics import accuracy_score\n",
    "from sklearn import tree\n",
    "from sklearn.model_selection import train_test_split \n",
    "from sklearn.metrics import confusion_matrix,accuracy_score,classification_report\n",
    "from sklearn.tree import DecisionTreeClassifier\n",
    "from sklearn.model_selection import train_test_split\n",
    "from sklearn.metrics import confusion_matrix\n",
    "from sklearn.tree import export_graphviz\n",
    "#from sklearn.externals.six import StringIO    \n",
    "# import pydotplus\n",
    "from sklearn import linear_model\n",
    "from sklearn.linear_model import LogisticRegression\n",
    "from sklearn.ensemble import RandomForestClassifier\n",
    "from sklearn.linear_model import Perceptron\n",
    "from sklearn.linear_model import SGDClassifier\n",
    "from sklearn.tree import DecisionTreeClassifier\n",
    "from sklearn.neighbors import KNeighborsClassifier\n",
    "from sklearn.svm import LinearSVC\n",
    "from sklearn.naive_bayes import GaussianNB\n",
    "from sklearn import mixture\n",
    "%matplotlib inline\n"
   ]
  },
  {
   "cell_type": "code",
   "execution_count": 49,
   "metadata": {
    "colab": {},
    "colab_type": "code",
    "id": "mHo65ulZni6C"
   },
   "outputs": [],
   "source": [
    "balance_data = pd.read_csv(\"test_dec (4).csv\")\n"
   ]
  },
  {
   "cell_type": "code",
   "execution_count": 144,
   "metadata": {},
   "outputs": [
    {
     "name": "stdout",
     "output_type": "stream",
     "text": [
      "    CROP          REGION SOWING_TIME  Average Soil_pH           SOIL_TYPE\n",
      "0  Bajra  Andhra Pradesh        June              6.5  black cotton soil \n",
      "1  Bajra  Andhra Pradesh        June              6.5  black cotton soil \n",
      "2  Bajra  Andhra Pradesh        July              6.5  black cotton soil \n",
      "3  Bajra  Andhra Pradesh     January              6.5  black cotton soil \n",
      "4  Bajra  Andhra Pradesh    February              6.5  black cotton soil \n",
      "5  Bajra  Andhra Pradesh       March              6.5  black cotton soil \n",
      "6  Bajra  Andhra Pradesh        June              6.5  black cotton soil \n",
      "7  Bajra  Andhra Pradesh        June              6.5  black cotton soil \n",
      "8  Bajra  Andhra Pradesh        July              6.5  black cotton soil \n",
      "9  Bajra  Andhra Pradesh     January              6.5  black cotton soil \n"
     ]
    },
    {
     "data": {
      "text/plain": [
       "(12828, 5)"
      ]
     },
     "execution_count": 144,
     "metadata": {},
     "output_type": "execute_result"
    }
   ],
   "source": [
    "df=balance_data[['CROP', 'REGION', 'SOWING_TIME', 'Average Soil_pH','SOIL_TYPE']].copy()\n",
    "print(df.head(10))\n",
    "df.shape"
   ]
  },
  {
   "cell_type": "markdown",
   "metadata": {},
   "source": [
    "# cleaning the data"
   ]
  },
  {
   "cell_type": "code",
   "execution_count": 51,
   "metadata": {},
   "outputs": [],
   "source": [
    "df['CROP']=df['CROP'].str.lower()\n",
    "df['REGION']=df['REGION'].str.lower()\n",
    "df['SOWING_TIME']=df['SOWING_TIME'].str.lower()\n",
    "\n",
    "df['SOIL_TYPE']=df['SOIL_TYPE'].str.lower()"
   ]
  },
  {
   "cell_type": "code",
   "execution_count": 52,
   "metadata": {},
   "outputs": [
    {
     "data": {
      "text/html": [
       "<div>\n",
       "<style scoped>\n",
       "    .dataframe tbody tr th:only-of-type {\n",
       "        vertical-align: middle;\n",
       "    }\n",
       "\n",
       "    .dataframe tbody tr th {\n",
       "        vertical-align: top;\n",
       "    }\n",
       "\n",
       "    .dataframe thead th {\n",
       "        text-align: right;\n",
       "    }\n",
       "</style>\n",
       "<table border=\"1\" class=\"dataframe\">\n",
       "  <thead>\n",
       "    <tr style=\"text-align: right;\">\n",
       "      <th></th>\n",
       "      <th>CROP</th>\n",
       "      <th>REGION</th>\n",
       "      <th>SOWING_TIME</th>\n",
       "      <th>Average Soil_pH</th>\n",
       "      <th>SOIL_TYPE</th>\n",
       "    </tr>\n",
       "  </thead>\n",
       "  <tbody>\n",
       "    <tr>\n",
       "      <th>0</th>\n",
       "      <td>bajra</td>\n",
       "      <td>andhra pradesh</td>\n",
       "      <td>june</td>\n",
       "      <td>6.5</td>\n",
       "      <td>black cotton soil</td>\n",
       "    </tr>\n",
       "    <tr>\n",
       "      <th>1</th>\n",
       "      <td>bajra</td>\n",
       "      <td>andhra pradesh</td>\n",
       "      <td>june</td>\n",
       "      <td>6.5</td>\n",
       "      <td>black cotton soil</td>\n",
       "    </tr>\n",
       "    <tr>\n",
       "      <th>2</th>\n",
       "      <td>bajra</td>\n",
       "      <td>andhra pradesh</td>\n",
       "      <td>july</td>\n",
       "      <td>6.5</td>\n",
       "      <td>black cotton soil</td>\n",
       "    </tr>\n",
       "    <tr>\n",
       "      <th>3</th>\n",
       "      <td>bajra</td>\n",
       "      <td>andhra pradesh</td>\n",
       "      <td>january</td>\n",
       "      <td>6.5</td>\n",
       "      <td>black cotton soil</td>\n",
       "    </tr>\n",
       "    <tr>\n",
       "      <th>4</th>\n",
       "      <td>bajra</td>\n",
       "      <td>andhra pradesh</td>\n",
       "      <td>february</td>\n",
       "      <td>6.5</td>\n",
       "      <td>black cotton soil</td>\n",
       "    </tr>\n",
       "  </tbody>\n",
       "</table>\n",
       "</div>"
      ],
      "text/plain": [
       "    CROP          REGION SOWING_TIME  Average Soil_pH           SOIL_TYPE\n",
       "0  bajra  andhra pradesh        june              6.5  black cotton soil \n",
       "1  bajra  andhra pradesh        june              6.5  black cotton soil \n",
       "2  bajra  andhra pradesh        july              6.5  black cotton soil \n",
       "3  bajra  andhra pradesh     january              6.5  black cotton soil \n",
       "4  bajra  andhra pradesh    february              6.5  black cotton soil "
      ]
     },
     "execution_count": 52,
     "metadata": {},
     "output_type": "execute_result"
    }
   ],
   "source": [
    "df.head()\n"
   ]
  },
  {
   "cell_type": "code",
   "execution_count": 53,
   "metadata": {},
   "outputs": [
    {
     "data": {
      "text/plain": [
       "CROP                 0\n",
       "REGION               0\n",
       "SOWING_TIME        392\n",
       "Average Soil_pH      0\n",
       "SOIL_TYPE            0\n",
       "dtype: int64"
      ]
     },
     "execution_count": 53,
     "metadata": {},
     "output_type": "execute_result"
    }
   ],
   "source": [
    "df.isnull().sum()"
   ]
  },
  {
   "cell_type": "code",
   "execution_count": 54,
   "metadata": {},
   "outputs": [],
   "source": [
    "df.fillna(\"whole year\", inplace = True)"
   ]
  },
  {
   "cell_type": "code",
   "execution_count": 55,
   "metadata": {},
   "outputs": [
    {
     "data": {
      "text/plain": [
       "CROP               0\n",
       "REGION             0\n",
       "SOWING_TIME        0\n",
       "Average Soil_pH    0\n",
       "SOIL_TYPE          0\n",
       "dtype: int64"
      ]
     },
     "execution_count": 55,
     "metadata": {},
     "output_type": "execute_result"
    }
   ],
   "source": [
    "df.isnull().sum()"
   ]
  },
  {
   "cell_type": "code",
   "execution_count": null,
   "metadata": {},
   "outputs": [],
   "source": []
  },
  {
   "cell_type": "code",
   "execution_count": 56,
   "metadata": {},
   "outputs": [
    {
     "name": "stdout",
     "output_type": "stream",
     "text": [
      "{'bajra': 1, 'jowar': 2, 'lentil': 3, 'horse gram': 4, 'wheat': 5, 'rice': 6, 'red gram': 7, 'ragi': 8, 'oat': 9, 'mungbean': 10, 'maize': 11, 'kidney beans': 12, 'black eyed beans': 13, 'black gram': 14, 'barley': 15, 'cotton': 16, 'jute': 17, 'ricinus (castor)': 18, 'sugarcane': 19, 'lily': 20, 'lotus': 21, 'jasmine': 22, 'petunia': 23, 'rose': 24, 'safflower': 25, 'sunflower': 26, 'zennia': 27, 'peach': 28, 'apple': 29, 'apricot': 30, 'avocado': 31, 'banana': 32, 'barbados cherry': 33, 'cashew trees': 34, 'cherry': 35, 'chikoo': 36, 'cucumber': 37, 'custard apple': 38, 'date palm': 39, 'dragon fruit': 40, 'fig': 41, 'grapes': 42, 'guava': 43, 'jackfruit': 44, 'kiwi': 45, 'lemon': 46}\n"
     ]
    }
   ],
   "source": [
    "df = df.replace(to_replace ='rice ', value = 'rice', regex = True)\n",
    "\n",
    "save_crop=df[\"CROP\"].unique()\n",
    "crop_dict={}\n",
    "count=1\n",
    "for i in save_crop:\n",
    "  crop_dict[i]=count\n",
    "  count=count+1\n",
    "\n",
    "print(crop_dict)\n",
    "\n"
   ]
  },
  {
   "cell_type": "code",
   "execution_count": 58,
   "metadata": {},
   "outputs": [
    {
     "name": "stdout",
     "output_type": "stream",
     "text": [
      "{'june': 1, 'july': 2, 'january': 3, 'february': 4, 'march': 5, 'august': 6, 'september': 7, 'october': 8, 'november': 9, 'december': 10, 'may': 11, 'april': 12, 'whole year': 13, 'year long': 14, 'rainy season': 15}\n"
     ]
    }
   ],
   "source": [
    "df[\"SOWING_TIME\"] = df[\"SOWING_TIME\"].replace(to_replace ='february', value = 'feb',regex = True)\n",
    "df[\"SOWING_TIME\"] = df[\"SOWING_TIME\"].replace(to_replace ='june ', value = 'june', regex = True)\n",
    "df[\"SOWING_TIME\"] = df[\"SOWING_TIME\"].replace(to_replace ='april ', value = 'april', regex = True)\n",
    "df[\"SOWING_TIME\"] = df[\"SOWING_TIME\"].replace(to_replace ='december ', value = 'december', regex = True)\n",
    "df[\"SOWING_TIME\"] = df[\"SOWING_TIME\"].replace(to_replace ='october ', value = 'october', regex = True)\n",
    "df[\"SOWING_TIME\"] = df[\"SOWING_TIME\"].replace(to_replace ='april  ', value = 'april', regex = True)\n",
    "df[\"SOWING_TIME\"] = df[\"SOWING_TIME\"].replace(to_replace ='july ', value = 'july', regex = True)  \n",
    "df[\"SOWING_TIME\"] = df[\"SOWING_TIME\"].replace(to_replace ='october  ', value = 'october', regex = True)\n",
    "df[\"SOWING_TIME\"] = df[\"SOWING_TIME\"].replace(to_replace ='feb', value = 'february',regex = True)\n",
    "\n",
    "save_sowing=df[\"SOWING_TIME\"].unique()\n",
    "sowing_dict={}\n",
    "count=1\n",
    "for i in save_sowing:\n",
    "  sowing_dict[i]=count\n",
    "  count=count+1\n",
    "\n",
    "print(sowing_dict)"
   ]
  },
  {
   "cell_type": "code",
   "execution_count": 59,
   "metadata": {},
   "outputs": [
    {
     "name": "stdout",
     "output_type": "stream",
     "text": [
      "{'black cotton soil': 1, 'clayey loam soil': 2, 'light black soil': 3, 'calcareous alluvial soil': 4, 'lateritic and black cotton soils': 5, 'clay loam': 6, 'fertile, riverine and alluvial': 7, 'clay loam,clayey,loamy': 8, 'loamy, alluvial': 9, 'alluvial': 10, 'well drained loams': 11, 'red lateritic ': 12, 'well drained, loamy ': 13, 'well drained, aerated deep-loams and silt loams': 14, 'light sandy to heavy clay,well drained loamy soil': 15, 'red sandy and loamy soils': 16, 'black soils': 17, 'laterite, medium and alluvial soils': 18, 'low organic carbon content and hilly sandy loam soil': 19, 'stiff loamy or heavy soils,black cotton soils or brown alluviums': 20, 'sandy loam, loam and sodic, light & saline soil': 21, 'deep black': 22, 'loamy , aluvial soils': 23, 'deep , sandy loam soils': 24, 'well drained , deep loam': 25, 'sandy loam soil': 26, 'nutrient rich loamy soil,water gardens': 27, 'well-drained, rich loamy soil': 28, 'light sandy soil': 29, 'sandy-loam, red-loam, silt-loam soils': 30, 'deep, moisture retentive and well drained soils': 31, 'loam mixture': 32, 'sandy and loamy soils': 33, 'sandy loam': 34, 'well-drained, loam soils': 35, 'deep fertile and well drained loamy soils': 36, 'deep,well irrigated, rich loams': 37, 'black cotton soils': 38, 'dry, well-drained, sandy soil': 39, 'sandy-loamy': 40, 'deep sandy loam soil': 41, 'alluvial, sandy loam, red laterite and medium black soils': 42, 'loamy': 43, 'shallow, sandy,deep black soils': 44, 'well drained, deep sandy loam soil': 45, 'sandy loam or clay loam': 46, 'deep, well drained, black and sandy loams': 47, 'well drained sandy loams to clay loams': 48, 'rich, deep, alluvial and well drained soils': 49, 'open textured or lateritic soil': 50, 'deep, rich, well-drained sandy loam soils': 51, 'sandy loamy': 52}\n"
     ]
    }
   ],
   "source": [
    "\n",
    "df[\"SOIL_TYPE\"] = df[\"SOIL_TYPE\"].replace(to_replace ='black cotton soil\\xa0', value = 'black cotton soil', regex = True)\n",
    "df[\"SOIL_TYPE\"] = df[\"SOIL_TYPE\"].replace(to_replace ='clay loam,clayey,loamy \\n', value = 'clay loam,clayey,loamy', regex = True)\n",
    "df[\"SOIL_TYPE\"] = df[\"SOIL_TYPE\"].replace(to_replace ='nutrient-rich\\xa0loamy\\xa0soil / water gardens', value = 'nutrient rich loamy soil,water gardens', regex = True)\n",
    "df[\"SOIL_TYPE\"] = df[\"SOIL_TYPE\"].replace(to_replace ='sandy-loam, red-loam, silt-loam\\xa0soils', value = 'sandy-loam, red-loam, silt-loam soils', regex = True)\n",
    "df[\"SOIL_TYPE\"] = df[\"SOIL_TYPE\"].replace(to_replace ='light sandy to heavy clay/ well drained loamy soil', value = 'light sandy to heavy clay,well drained loamy soil', regex = True)\n",
    "df[\"SOIL_TYPE\"] = df[\"SOIL_TYPE\"].replace(to_replace ='clay loam,clayey,loamy ', value = 'clay loam,clayey,loamy', regex = True)\n",
    "\n",
    "\n",
    "save_soil=df[\"SOIL_TYPE\"].unique()\n",
    "soil_dict={}\n",
    "count=1\n",
    "for i in save_soil:\n",
    "  soil_dict[i]=count\n",
    "  count=count+1\n",
    "\n",
    "print(soil_dict)\n"
   ]
  },
  {
   "cell_type": "code",
   "execution_count": 60,
   "metadata": {},
   "outputs": [
    {
     "name": "stdout",
     "output_type": "stream",
     "text": [
      "{'andhra pradesh': 1, 'gujarat': 2, 'haryana ': 3, 'karnataka': 4, 'madhya pradesh': 5, 'maharashtra': 6, 'orissa': 7, 'rajasthan ': 8, 'uttar pradesh ': 9, 'tamil nadu': 10, 'punjab': 11, 'delhi': 12, 'andra pradesh': 13, 'bihar': 14, 'haryana': 15, 'rajasthan': 16, 'up': 17, 'uttrakhand': 18, 'west bengal': 19, 'telangana': 20, 'assam': 21, 'chhattisgarh': 22, 'himacha pradeshl': 23, 'jammu and kashmir': 24, 'madya pradesh': 25, 'uttar pradesh': 26, 'odisha': 27, 'jharkhand': 28, 'himacha pradeshl pradesh': 29, 'east madhya pradesh': 30, 'east uttar pradesh': 31, 'kerala': 32, 'goa': 33, 'tripura': 34, 'north india': 35, 'uttranchal': 36, 'punjab ': 37, 'rajashtan': 38, 'manipur': 39, 'maharshtra': 40, 'hyderabad': 41, 'arunachal pradesh': 42, 'meghalaya': 43, 'mizoram': 44, 'nagaland': 45, 'sikkim': 46, 'andaman and nicobar islands': 47, 'chandigarh': 48, 'dadar and nagar haveli': 49, 'daman and diu': 50, 'lakshadweep': 51, 'puducherry (pondicherry)': 52, 'hilly areas': 53, 'kolkata': 54, 'pune': 55, 'navsari': 56, 'latur': 57, 'indore': 58, 'pondicherry': 59, 'uttaranchal': 60}\n"
     ]
    }
   ],
   "source": [
    "df[\"REGION\"] = df[\"REGION\"].replace(to_replace ='orissa ', value = 'orissa', regex = True)\n",
    "df[\"REGION\"] = df[\"REGION\"].replace(to_replace ='himacha', value = 'himacha pradesh', regex = True)\n",
    "df[\"REGION\"] = df[\"REGION\"].replace(to_replace ='orrissa', value = 'orissa', regex = True)\n",
    "df[\"REGION\"] = df[\"REGION\"].replace(to_replace ='kerela', value = 'kerala', regex = True)\n",
    "df[\"REGION\"] = df[\"REGION\"].replace(to_replace ='gujrat', value = 'gujarat', regex = True)\n",
    "df[\"REGION\"] = df[\"REGION\"].replace(to_replace ='chattisgarh', value = 'chhattisgarh', regex = True)\n",
    "df[\"REGION\"] = df[\"REGION\"].replace(to_replace ='jammu & kashmir', value = 'jammu and kashmir', regex = True)\n",
    "df[\"REGION\"] = df[\"REGION\"].replace(to_replace ='maharashtra ', value = 'maharashtra', regex = True)\n",
    "df[\"REGION\"] = df[\"REGION\"].replace(to_replace ='uttarakhand', value = 'uttrakhand', regex = True)\n",
    "df[\"REGION\"] = df[\"REGION\"].replace(to_replace ='maharasthra', value = 'maharashtra', regex = True)\n",
    "df[\"REGION\"] = df[\"REGION\"].replace(to_replace ='haryana ', value = 'haryana', regex = True)\n",
    "df[\"REGION\"] = df[\"REGION\"].replace(to_replace ='puducherry (pondicherry)', value = 'pondicherry', regex = True)\n",
    "df[\"REGION\"] = df[\"REGION\"].replace(to_replace ='andaman nicobar', value = 'andaman and nicobar islands', regex = True)\n",
    "df[\"REGION\"] = df[\"REGION\"].replace(to_replace ='andaman & nicobar islands', value = 'andaman and nicobar islands', regex = True)\n",
    "df[\"REGION\"] = df[\"REGION\"].replace(to_replace ='puducherry (pondicherry)', value = 'pondicherry', regex = True)\n",
    "df[\"REGION\"] = df[\"REGION\"].replace(to_replace ='orrisa', value = 'orissa', regex = True)\n",
    "df[\"REGION\"] = df[\"REGION\"].replace(to_replace ='chhatisgarh', value = 'chhattisgarh', regex = True)\n",
    "df[\"REGION\"] = df[\"REGION\"].replace(to_replace ='chittaurgarh', value = 'chhattisgarh', regex = True)\n",
    "df[\"REGION\"] = df[\"REGION\"].replace(to_replace ='karnataka ', value = 'karnataka', regex = True)\n",
    "df[\"REGION\"] = df[\"REGION\"].replace(to_replace ='madhya pradesh  ', value = 'madhya pradesh', regex = True)\n",
    "\n",
    "\n",
    "\n",
    "save_region=df[\"REGION\"].unique()\n",
    "region_dict={}\n",
    "count=1\n",
    "for i in save_region:\n",
    "  region_dict[i]=count\n",
    "  count=count+1\n",
    "\n",
    "print(region_dict)"
   ]
  },
  {
   "cell_type": "code",
   "execution_count": null,
   "metadata": {},
   "outputs": [],
   "source": []
  },
  {
   "cell_type": "code",
   "execution_count": 273,
   "metadata": {},
   "outputs": [
    {
     "data": {
      "text/plain": [
       "Text(0.5, 1.0, 'SOWING TIME OF CROPS')"
      ]
     },
     "execution_count": 273,
     "metadata": {},
     "output_type": "execute_result"
    },
    {
     "data": {
      "image/png": "[encoded data removed]",
      "text/plain": [
       "<Figure size 432x288 with 1 Axes>"
      ]
     },
     "metadata": {},
     "output_type": "display_data"
    }
   ],
   "source": [
    "ax = sns.countplot(y = 'SOWING_TIME', data = df)\n",
    "\n",
    "ax.set_title(\"SOWING TIME OF CROPS\")"
   ]
  },
  {
   "cell_type": "code",
   "execution_count": 62,
   "metadata": {},
   "outputs": [
    {
     "data": {
      "text/plain": [
       "Text(0.5, 1.0, 'CROPS')"
      ]
     },
     "execution_count": 62,
     "metadata": {},
     "output_type": "execute_result"
    },
    {
     "data": {
      "image/png": "[encoded data removed]",
      "text/plain": [
       "<Figure size 432x288 with 1 Axes>"
      ]
     },
     "metadata": {
      "needs_background": "light"
     },
     "output_type": "display_data"
    }
   ],
   "source": [
    "ax = sns.countplot(y = 'CROP', data = df)\n",
    "\n",
    "ax.set_title(\"CROPS\")"
   ]
  },
  {
   "cell_type": "code",
   "execution_count": null,
   "metadata": {},
   "outputs": [],
   "source": []
  },
  {
   "cell_type": "code",
   "execution_count": null,
   "metadata": {},
   "outputs": [],
   "source": []
  },
  {
   "cell_type": "code",
   "execution_count": 152,
   "metadata": {},
   "outputs": [
    {
     "data": {
      "image/png": "[encoded data removed]",
      "text/plain": [
       "<Figure size 1440x1080 with 1 Axes>"
      ]
     },
     "metadata": {
      "needs_background": "light"
     },
     "output_type": "display_data"
    }
   ],
   "source": [
    " \n",
    "df.hist(bins = 25, figsize = (20,15))\n",
    "plt.show()\n",
    "\n",
    "#most of the crops are grown in between 6.5-7.0 ph"
   ]
  },
  {
   "cell_type": "code",
   "execution_count": null,
   "metadata": {},
   "outputs": [],
   "source": []
  },
  {
   "cell_type": "code",
   "execution_count": null,
   "metadata": {},
   "outputs": [],
   "source": []
  },
  {
   "cell_type": "code",
   "execution_count": 63,
   "metadata": {
    "colab": {
     "base_uri": "https://localhost:8080/",
     "height": 462
    },
    "colab_type": "code",
    "id": "IWmUmGG8nq-r",
    "outputId": "9dd66b2e-cd8d-4fdb-f2fb-96f8247ccebc",
    "scrolled": true
   },
   "outputs": [],
   "source": [
    "#CROP \n",
    "\n",
    "#save_crop=df[\"CROP\"].unique()\n",
    "#crop_dict={}\n",
    "#count=1\n",
    "#for i in save_crop:\n",
    "#  crop_dict[i]=count\n",
    "#  count=count+1\n",
    "\n",
    "#print(crop_dict)\n",
    "\n",
    "\n",
    "\n",
    "#REGION \n",
    "#save_region=df[\"REGION\"].unique()\n",
    "#region_dict={}\n",
    "#count=1\n",
    "#for i in save_region:\n",
    "#  region_dict[i]=count\n",
    "#  count=count+1\n",
    "\n",
    "#print(region_dict)\n",
    "\n",
    "#SOWING TIME \n",
    "\n",
    "#save_sowing=df[\"SOWING_TIME\"].unique()\n",
    "#sowing_dict={}\n",
    "#count=1\n",
    "#for i in save_sowing:\n",
    "#  sowing_dict[i]=count\n",
    "#  count=count+1\n",
    "\n",
    "#print(sowing_dict)\n",
    "\n",
    "#ph\n",
    "save_soilph=df[\"Average Soil_pH\"].unique()\n",
    "soilph_dict={}\n",
    "count=1\n",
    "for i in save_soilph:\n",
    "  soilph_dict[i]=count\n",
    "  count=count+1\n",
    "\n",
    "\n",
    "#SOIL TYPE\n",
    "\n",
    "#save_soil=df[\"SOIL_TYPE\"].unique()\n",
    "#soil_dict={}\n",
    "#count=1\n",
    "#for i in save_soil:\n",
    "#  soil_dict[i]=count\n",
    "#  count=count+1\n",
    "\n",
    "#print(soil_dict)\n"
   ]
  },
  {
   "cell_type": "code",
   "execution_count": null,
   "metadata": {},
   "outputs": [],
   "source": []
  },
  {
   "cell_type": "code",
   "execution_count": 64,
   "metadata": {
    "colab": {
     "base_uri": "https://localhost:8080/",
     "height": 255
    },
    "colab_type": "code",
    "id": "xkY06waKn2uX",
    "outputId": "a13db577-e0cc-486e-8d57-7a3ae84189c7"
   },
   "outputs": [
    {
     "data": {
      "text/html": [
       "<div>\n",
       "<style scoped>\n",
       "    .dataframe tbody tr th:only-of-type {\n",
       "        vertical-align: middle;\n",
       "    }\n",
       "\n",
       "    .dataframe tbody tr th {\n",
       "        vertical-align: top;\n",
       "    }\n",
       "\n",
       "    .dataframe thead th {\n",
       "        text-align: right;\n",
       "    }\n",
       "</style>\n",
       "<table border=\"1\" class=\"dataframe\">\n",
       "  <thead>\n",
       "    <tr style=\"text-align: right;\">\n",
       "      <th></th>\n",
       "      <th>CROP</th>\n",
       "      <th>REGION</th>\n",
       "      <th>SOWING_TIME</th>\n",
       "      <th>Average Soil_pH</th>\n",
       "      <th>SOIL_TYPE</th>\n",
       "    </tr>\n",
       "  </thead>\n",
       "  <tbody>\n",
       "    <tr>\n",
       "      <th>0</th>\n",
       "      <td>1</td>\n",
       "      <td>1</td>\n",
       "      <td>1</td>\n",
       "      <td>6.5</td>\n",
       "      <td>1</td>\n",
       "    </tr>\n",
       "    <tr>\n",
       "      <th>1</th>\n",
       "      <td>1</td>\n",
       "      <td>1</td>\n",
       "      <td>1</td>\n",
       "      <td>6.5</td>\n",
       "      <td>1</td>\n",
       "    </tr>\n",
       "    <tr>\n",
       "      <th>2</th>\n",
       "      <td>1</td>\n",
       "      <td>1</td>\n",
       "      <td>2</td>\n",
       "      <td>6.5</td>\n",
       "      <td>1</td>\n",
       "    </tr>\n",
       "    <tr>\n",
       "      <th>3</th>\n",
       "      <td>1</td>\n",
       "      <td>1</td>\n",
       "      <td>3</td>\n",
       "      <td>6.5</td>\n",
       "      <td>1</td>\n",
       "    </tr>\n",
       "    <tr>\n",
       "      <th>4</th>\n",
       "      <td>1</td>\n",
       "      <td>1</td>\n",
       "      <td>4</td>\n",
       "      <td>6.5</td>\n",
       "      <td>1</td>\n",
       "    </tr>\n",
       "  </tbody>\n",
       "</table>\n",
       "</div>"
      ],
      "text/plain": [
       "   CROP  REGION  SOWING_TIME  Average Soil_pH  SOIL_TYPE\n",
       "0     1       1            1              6.5          1\n",
       "1     1       1            1              6.5          1\n",
       "2     1       1            2              6.5          1\n",
       "3     1       1            3              6.5          1\n",
       "4     1       1            4              6.5          1"
      ]
     },
     "execution_count": 64,
     "metadata": {},
     "output_type": "execute_result"
    }
   ],
   "source": [
    "#REPLACING THE VALUES GOT IN THE DICTIONARY & REAL VALUES \n",
    "c=0\n",
    "\n",
    "#crop ka \n",
    "for i in crop_dict:\n",
    "  df=df.replace(to_replace=i,value=crop_dict[i])\n",
    "  \n",
    "#region ka \n",
    "for i in region_dict:\n",
    "  df=df.replace(to_replace=i,value=region_dict[i])\n",
    "\n",
    "#sowing ka \n",
    "\n",
    "for i in sowing_dict:\n",
    "  df=df.replace(to_replace=i,value=sowing_dict[i])\n",
    "\n",
    "#soil type ka \n",
    "for i in soil_dict:\n",
    "  df=df.replace(to_replace=i,value=soil_dict[i])\n",
    "df.head()"
   ]
  },
  {
   "cell_type": "markdown",
   "metadata": {},
   "source": [
    "# using  algorithms"
   ]
  },
  {
   "cell_type": "code",
   "execution_count": 65,
   "metadata": {
    "colab": {},
    "colab_type": "code",
    "id": "amRQsGFyoFGR"
   },
   "outputs": [],
   "source": [
    "def splitdataset(balance_data): \n",
    "  \n",
    "    # Separating the target variable \n",
    "    X = balance_data.values[:, 1:5] \n",
    "    Y = balance_data.values[:, 0]\n",
    "    Y=Y.astype('int')\n",
    "    X=X.astype('int')\n",
    "  \n",
    "    # Splitting the dataset into train and test \n",
    "    X_train, X_test, y_train, y_test = train_test_split(  X, Y, test_size = 0.2, random_state = 100) \n",
    "    \n",
    "    return X, Y, X_train, X_test, y_train, y_test"
   ]
  },
  {
   "cell_type": "code",
   "execution_count": 66,
   "metadata": {
    "colab": {},
    "colab_type": "code",
    "id": "hiRBt_D3n3Bn"
   },
   "outputs": [],
   "source": [
    "X, Y, X_train, X_test, y_train, y_test = splitdataset(df) "
   ]
  },
  {
   "cell_type": "code",
   "execution_count": 67,
   "metadata": {},
   "outputs": [
    {
     "data": {
      "text/plain": [
       "((10262,), (10262, 4))"
      ]
     },
     "execution_count": 67,
     "metadata": {},
     "output_type": "execute_result"
    }
   ],
   "source": [
    "type(X_train),type(y_train)\n",
    "\n",
    "y_train.shape,X_train.shape"
   ]
  },
  {
   "cell_type": "code",
   "execution_count": 68,
   "metadata": {
    "colab": {
     "base_uri": "https://localhost:8080/",
     "height": 34
    },
    "colab_type": "code",
    "id": "7PDT_u82oU7R",
    "outputId": "fcc1fc51-879b-4cef-c4e2-de0f61d94ce8"
   },
   "outputs": [
    {
     "name": "stdout",
     "output_type": "stream",
     "text": [
      "99.93\n"
     ]
    }
   ],
   "source": [
    "random_forest = RandomForestClassifier(n_estimators=100)\n",
    "random_forest.fit(X_train, y_train)\n",
    "\n",
    "Y_prediction_RF = random_forest.predict(X_test)\n",
    "\n",
    "random_forest.score(X_train, y_train)\n",
    "a1=acc_random_forest = float(round(random_forest.score(X_train, y_train) * 100, 2))\n",
    "print(acc_random_forest)"
   ]
  },
  {
   "cell_type": "code",
   "execution_count": 69,
   "metadata": {
    "colab": {
     "base_uri": "https://localhost:8080/",
     "height": 34
    },
    "colab_type": "code",
    "id": "09lmx4DAoikJ",
    "outputId": "c41ab3f5-1aad-429a-8376-b97f91709a31"
   },
   "outputs": [
    {
     "name": "stdout",
     "output_type": "stream",
     "text": [
      "64.47\n"
     ]
    }
   ],
   "source": [
    "logreg = LogisticRegression()\n",
    "logreg.fit(X_train, y_train)\n",
    "\n",
    "Y_pred_LR = logreg.predict(X_test)\n",
    "\n",
    "a2=acc_log = float(round(logreg.score(X_train, y_train) * 100, 2))\n",
    "print(acc_log)"
   ]
  },
  {
   "cell_type": "code",
   "execution_count": 70,
   "metadata": {
    "colab": {
     "base_uri": "https://localhost:8080/",
     "height": 34
    },
    "colab_type": "code",
    "id": "JQjjegSBokn1",
    "outputId": "1b78ed2e-aa74-4ff3-9120-4e7675741f12"
   },
   "outputs": [
    {
     "name": "stdout",
     "output_type": "stream",
     "text": [
      "99.01\n"
     ]
    }
   ],
   "source": [
    "knn = KNeighborsClassifier(n_neighbors = 3)\n",
    "knn.fit(X_train, y_train) \n",
    "Y_pred_KNN = knn.predict(X_test)\n",
    "a3=acc_knn = float(round(knn.score(X_train, y_train) * 100, 2))\n",
    "print(acc_knn)"
   ]
  },
  {
   "cell_type": "code",
   "execution_count": 71,
   "metadata": {
    "colab": {
     "base_uri": "https://localhost:8080/",
     "height": 34
    },
    "colab_type": "code",
    "id": "N47NgQSlomiI",
    "outputId": "bb2166b0-9f05-43e4-c8fd-fbcee7f43b50"
   },
   "outputs": [
    {
     "name": "stdout",
     "output_type": "stream",
     "text": [
      "99.09\n"
     ]
    }
   ],
   "source": [
    "gaussian = GaussianNB()\n",
    "gaussian.fit(X_train, y_train) \n",
    "Y_pred_GNB = gaussian.predict(X_test)\n",
    "a4=acc_gaussian = float(round(gaussian.score(X_train, y_train) * 100, 2))\n",
    "print(acc_gaussian)"
   ]
  },
  {
   "cell_type": "code",
   "execution_count": 72,
   "metadata": {
    "colab": {
     "base_uri": "https://localhost:8080/",
     "height": 34
    },
    "colab_type": "code",
    "id": "pQYPW0wWos3i",
    "outputId": "f2f48761-0268-48ef-82b3-f099e1a776a8"
   },
   "outputs": [
    {
     "name": "stdout",
     "output_type": "stream",
     "text": [
      "54.39\n"
     ]
    }
   ],
   "source": [
    "linear_svc = LinearSVC()\n",
    "linear_svc.fit(X_train, y_train)\n",
    "\n",
    "Y_pred_SVC = linear_svc.predict(X_test)\n",
    "\n",
    "a5=acc_linear_svc = float(round(linear_svc.score(X_train, y_train) * 100, 2))\n",
    "print(acc_linear_svc)"
   ]
  },
  {
   "cell_type": "code",
   "execution_count": 73,
   "metadata": {
    "colab": {
     "base_uri": "https://localhost:8080/",
     "height": 34
    },
    "colab_type": "code",
    "id": "Ua83sOLeovCF",
    "outputId": "1c796f5a-fc08-45e2-c71f-651b1ef245ab"
   },
   "outputs": [
    {
     "name": "stdout",
     "output_type": "stream",
     "text": [
      "99.93\n"
     ]
    }
   ],
   "source": [
    "decision_tree = DecisionTreeClassifier()\n",
    "decision_tree.fit(X_train, y_train)\n",
    "Y_pred_DT = decision_tree.predict(X_test)\n",
    "a6=acc_decision_tree = float(round(decision_tree.score(X_train, y_train) * 100, 2))\n",
    "print(acc_decision_tree)"
   ]
  },
  {
   "cell_type": "code",
   "execution_count": null,
   "metadata": {},
   "outputs": [],
   "source": []
  },
  {
   "cell_type": "code",
   "execution_count": null,
   "metadata": {},
   "outputs": [],
   "source": []
  },
  {
   "cell_type": "code",
   "execution_count": null,
   "metadata": {},
   "outputs": [],
   "source": []
  },
  {
   "cell_type": "code",
   "execution_count": null,
   "metadata": {
    "colab": {
     "base_uri": "https://localhost:8080/",
     "height": 136
    },
    "colab_type": "code",
    "id": "V2Asrp2l1PTb",
    "outputId": "5e102c20-dca2-404a-cc39-2955945809a9"
   },
   "outputs": [],
   "source": []
  },
  {
   "cell_type": "code",
   "execution_count": 74,
   "metadata": {
    "colab": {},
    "colab_type": "code",
    "id": "fVufKNpwoxs0"
   },
   "outputs": [],
   "source": [
    "import pickle"
   ]
  },
  {
   "cell_type": "code",
   "execution_count": 76,
   "metadata": {
    "colab": {},
    "colab_type": "code",
    "id": "tH1vX8CNo4E-"
   },
   "outputs": [
    {
     "data": {
      "text/plain": [
       "array([7])"
      ]
     },
     "execution_count": 76,
     "metadata": {},
     "output_type": "execute_result"
    }
   ],
   "source": [
    "pickle.dump(random_forest, open(\"random_forest.sav\", \"wb\"))\n",
    "\n",
    "model = pickle.load(open('random_forest.sav','rb'))\n",
    "q=model.predict([[5,6,7,6]])\n",
    "q"
   ]
  },
  {
   "cell_type": "markdown",
   "metadata": {},
   "source": []
  },
  {
   "cell_type": "code",
   "execution_count": null,
   "metadata": {},
   "outputs": [],
   "source": []
  },
  {
   "cell_type": "code",
   "execution_count": 77,
   "metadata": {},
   "outputs": [],
   "source": [
    "from sklearn.model_selection import cross_val_score\n",
    "results1 = cross_val_score(random_forest, X_train, y_train,scoring ='accuracy', cv=5)\n",
    "results2 = cross_val_score(logreg, X_train, y_train,scoring ='accuracy', cv=5)\n",
    "results3 = cross_val_score(knn, X_train, y_train,scoring ='accuracy', cv=5)\n",
    "results4 = cross_val_score(gaussian,X_train, y_train,scoring ='accuracy', cv=5)\n",
    "results5 = cross_val_score(linear_svc, X_train, y_train,scoring ='accuracy', cv=5)\n"
   ]
  },
  {
   "cell_type": "code",
   "execution_count": 30,
   "metadata": {},
   "outputs": [
    {
     "data": {
      "image/png": "[encoded data removed]",
      "text/plain": [
       "<Figure size 432x288 with 1 Axes>"
      ]
     },
     "metadata": {},
     "output_type": "display_data"
    }
   ],
   "source": [
    "box_plot_data=[results1,results2,results3,results4,results5]\n",
    "\n",
    "plt.boxplot(box_plot_data,labels=['Random Forest Classifier','LogisticRegression','DecisionTreeClassifier','KNeighborsClassifier','Naive Bayes'])\n",
    "plt.show()"
   ]
  },
  {
   "cell_type": "code",
   "execution_count": null,
   "metadata": {
    "colab": {},
    "colab_type": "code",
    "id": "svmqAIAJo5gU"
   },
   "outputs": [],
   "source": []
  },
  {
   "cell_type": "code",
   "execution_count": 31,
   "metadata": {
    "colab": {
     "base_uri": "https://localhost:8080/",
     "height": 34
    },
    "colab_type": "code",
    "id": "w7M9LbTyo6sE",
    "outputId": "c03da5f7-dfc6-4ca2-9d24-a1711aed0ff8"
   },
   "outputs": [],
   "source": [
    "# model = pickle.load(open('knn.pkl','rb'))\n",
    "# print(model.predict([[2,3,6.75,1]]))"
   ]
  },
  {
   "cell_type": "code",
   "execution_count": 99,
   "metadata": {
    "colab": {},
    "colab_type": "code",
    "id": "EAPjuTUdo9He"
   },
   "outputs": [],
   "source": [
    "from sklearn.ensemble import VotingClassifier\n",
    "\n",
    "model_hard = VotingClassifier(estimators=[('rf',random_forest), ('LR', logreg),('GNB', gaussian),('DT', decision_tree),('KNN', knn)], voting='hard')\n"
   ]
  },
  {
   "cell_type": "code",
   "execution_count": 100,
   "metadata": {},
   "outputs": [
    {
     "data": {
      "text/plain": [
       "VotingClassifier(estimators=[('rf', RandomForestClassifier()),\n",
       "                             ('LR', LogisticRegression()),\n",
       "                             ('GNB', GaussianNB()),\n",
       "                             ('DT', DecisionTreeClassifier()),\n",
       "                             ('KNN', KNeighborsClassifier(n_neighbors=3))])"
      ]
     },
     "execution_count": 100,
     "metadata": {},
     "output_type": "execute_result"
    }
   ],
   "source": [
    "model_hard"
   ]
  },
  {
   "cell_type": "code",
   "execution_count": 101,
   "metadata": {},
   "outputs": [
    {
     "data": {
      "text/plain": [
       "VotingClassifier(estimators=[('rf', RandomForestClassifier()),\n",
       "                             ('LR', LogisticRegression()),\n",
       "                             ('GNB', GaussianNB()),\n",
       "                             ('DT', DecisionTreeClassifier()),\n",
       "                             ('KNN', KNeighborsClassifier(n_neighbors=3))])"
      ]
     },
     "execution_count": 101,
     "metadata": {},
     "output_type": "execute_result"
    }
   ],
   "source": [
    "model_hard.fit(X_train,y_train)\n",
    "# model.score(X_test,y_test)"
   ]
  },
  {
   "cell_type": "code",
   "execution_count": 102,
   "metadata": {},
   "outputs": [],
   "source": [
    "ans_pred=model_hard.predict(X_test)"
   ]
  },
  {
   "cell_type": "code",
   "execution_count": 150,
   "metadata": {},
   "outputs": [
    {
     "data": {
      "text/plain": [
       "array([7])"
      ]
     },
     "execution_count": 150,
     "metadata": {},
     "output_type": "execute_result"
    }
   ],
   "source": [
    "score_ensemble = accuracy_score(y_test, ans_pred)*100\n",
    "score_ensemble \n",
    "\n",
    "pickle.dump(model_hard , open(\"model_hard.pkl\", \"wb\"))\n",
    "\n",
    "\n",
    "\n",
    "model = pickle.load(open('model_hard.pkl','rb'))\n",
    "q=model.predict([[7,14,7,9]])\n",
    "q"
   ]
  },
  {
   "cell_type": "code",
   "execution_count": 37,
   "metadata": {},
   "outputs": [],
   "source": [
    "model_soft = VotingClassifier(estimators=[('rf',random_forest), ('LR', logreg),('GNB', gaussian),('DT', decision_tree),('KNN', knn)], voting='soft')"
   ]
  },
  {
   "cell_type": "code",
   "execution_count": 38,
   "metadata": {},
   "outputs": [
    {
     "data": {
      "text/plain": [
       "99.64925954793453"
      ]
     },
     "execution_count": 38,
     "metadata": {},
     "output_type": "execute_result"
    }
   ],
   "source": [
    "model_soft.fit(X_train,y_train)\n",
    "ans_soft=model_soft.predict(X_test)\n",
    "score_ensemble_soft = ((accuracy_score(y_test, ans_soft)) *100)\n",
    "score_ensemble_soft"
   ]
  },
  {
   "cell_type": "code",
   "execution_count": null,
   "metadata": {},
   "outputs": [],
   "source": []
  },
  {
   "cell_type": "code",
   "execution_count": null,
   "metadata": {},
   "outputs": [],
   "source": [
    "\n"
   ]
  },
  {
   "cell_type": "code",
   "execution_count": null,
   "metadata": {},
   "outputs": [],
   "source": []
  },
  {
   "cell_type": "markdown",
   "metadata": {},
   "source": [
    "# Prediction"
   ]
  },
  {
   "cell_type": "code",
   "execution_count": null,
   "metadata": {},
   "outputs": [],
   "source": []
  },
  {
   "cell_type": "code",
   "execution_count": null,
   "metadata": {},
   "outputs": [],
   "source": []
  },
  {
   "cell_type": "code",
   "execution_count": null,
   "metadata": {},
   "outputs": [],
   "source": []
  },
  {
   "cell_type": "markdown",
   "metadata": {},
   "source": [
    "# getting the crop name from the predicted value"
   ]
  },
  {
   "cell_type": "code",
   "execution_count": 151,
   "metadata": {},
   "outputs": [
    {
     "name": "stdout",
     "output_type": "stream",
     "text": [
      "red gram\n"
     ]
    }
   ],
   "source": [
    "for i in crop_dict:\n",
    "    if crop_dict[i]==q:\n",
    "        print(i)"
   ]
  },
  {
   "cell_type": "code",
   "execution_count": null,
   "metadata": {},
   "outputs": [],
   "source": [
    "\n",
    "\n"
   ]
  },
  {
   "cell_type": "markdown",
   "metadata": {},
   "source": [
    "# Asking the user to enter the values"
   ]
  },
  {
   "cell_type": "markdown",
   "metadata": {},
   "source": [
    "Andhra Pradesh        June              6.5     black cotton soil\n",
    "Andra Pradesh      February             6.75    clayey loam soil\n",
    "Maharashtra        January              5.6     open textured or lateritic soil"
   ]
  },
  {
   "cell_type": "code",
   "execution_count": 120,
   "metadata": {},
   "outputs": [
    {
     "name": "stdout",
     "output_type": "stream",
     "text": [
      "REGION:Maharashtra\n",
      "SOWING_TIME:January\n",
      "Average Soil_pH:5.6\n",
      "SOIL_TYPE:light sandy to heavy clay,Well drained loamy soil\n"
     ]
    }
   ],
   "source": [
    "r=input('REGION:')\n",
    "s=input('SOWING_TIME:')\n",
    "a=input('Average Soil_pH:')\n",
    "st=input('SOIL_TYPE:')"
   ]
  },
  {
   "cell_type": "code",
   "execution_count": 137,
   "metadata": {},
   "outputs": [
    {
     "name": "stdout",
     "output_type": "stream",
     "text": [
      "SOIL_TYPE:open textured or lateritic soil\n"
     ]
    }
   ],
   "source": [
    "st=input('SOIL_TYPE:')"
   ]
  },
  {
   "cell_type": "code",
   "execution_count": null,
   "metadata": {},
   "outputs": [],
   "source": []
  },
  {
   "cell_type": "markdown",
   "metadata": {},
   "source": []
  },
  {
   "cell_type": "code",
   "execution_count": 138,
   "metadata": {},
   "outputs": [
    {
     "name": "stdout",
     "output_type": "stream",
     "text": [
      "6\n"
     ]
    }
   ],
   "source": [
    "\n",
    "pre=[]\n",
    "for i in region_dict:\n",
    "    if i==r.lower():\n",
    "        print(region_dict[i])\n",
    "        pre.append(region_dict[i])"
   ]
  },
  {
   "cell_type": "code",
   "execution_count": 139,
   "metadata": {},
   "outputs": [
    {
     "name": "stdout",
     "output_type": "stream",
     "text": [
      "3\n"
     ]
    }
   ],
   "source": [
    "for i in sowing_dict:\n",
    "    if i==s.lower():\n",
    "        print(sowing_dict[i])\n",
    "        pre.append(sowing_dict[i])"
   ]
  },
  {
   "cell_type": "code",
   "execution_count": 140,
   "metadata": {},
   "outputs": [
    {
     "name": "stdout",
     "output_type": "stream",
     "text": [
      "9\n",
      "50\n"
     ]
    }
   ],
   "source": [
    "for i in soilph_dict:\n",
    "    if str(i)==a:\n",
    "        print(soilph_dict[i])\n",
    "        pre.append(i) \n",
    "        \n",
    "for i in soil_dict:\n",
    "    if i==st.lower():\n",
    "        print(soil_dict[i])\n",
    "        pre.append(soil_dict[i])\n",
    "       \n"
   ]
  },
  {
   "cell_type": "code",
   "execution_count": 141,
   "metadata": {},
   "outputs": [
    {
     "data": {
      "text/plain": [
       "[6, 3, 5.6, 50]"
      ]
     },
     "execution_count": 141,
     "metadata": {},
     "output_type": "execute_result"
    }
   ],
   "source": [
    "\n",
    "\n",
    "pre"
   ]
  },
  {
   "cell_type": "code",
   "execution_count": null,
   "metadata": {},
   "outputs": [],
   "source": []
  },
  {
   "cell_type": "code",
   "execution_count": null,
   "metadata": {},
   "outputs": [],
   "source": []
  },
  {
   "cell_type": "code",
   "execution_count": 142,
   "metadata": {},
   "outputs": [
    {
     "data": {
      "text/plain": [
       "array([44])"
      ]
     },
     "execution_count": 142,
     "metadata": {},
     "output_type": "execute_result"
    }
   ],
   "source": [
    "pickle.dump(model_hard , open(\"model_hard.pkl\", \"wb\"))\n",
    "\n",
    "\n",
    "\n",
    "model = pickle.load(open('model_hard.pkl','rb'))\n",
    "q=model.predict([pre])\n",
    "q"
   ]
  },
  {
   "cell_type": "code",
   "execution_count": 143,
   "metadata": {},
   "outputs": [
    {
     "name": "stdout",
     "output_type": "stream",
     "text": [
      "jackfruit\n"
     ]
    }
   ],
   "source": [
    "for i in crop_dict:\n",
    "    if crop_dict[i]==q:\n",
    "        print(i)"
   ]
  },
  {
   "cell_type": "code",
   "execution_count": null,
   "metadata": {},
   "outputs": [],
   "source": []
  }
 ],
 "metadata": {
  "colab": {
   "name": "crop_prediction .ipynb",
   "provenance": [],
   "toc_visible": true
  },
  "kernelspec": {
   "display_name": "Python 3",
   "language": "python",
   "name": "python3"
  },
  "language_info": {
   "codemirror_mode": {
    "name": "ipython",
    "version": 3
   },
   "file_extension": ".py",
   "mimetype": "text/x-python",
   "name": "python",
   "nbconvert_exporter": "python",
   "pygments_lexer": "ipython3",
   "version": "3.8.3"
  }
 },
 "nbformat": 4,
 "nbformat_minor": 1
}
